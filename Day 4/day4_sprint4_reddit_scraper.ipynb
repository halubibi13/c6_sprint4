{
 "cells": [
  {
   "cell_type": "code",
   "execution_count": 1,
   "metadata": {},
   "outputs": [
    {
     "name": "stdout",
     "output_type": "stream",
     "text": [
      "Collecting praw\n",
      "  Downloading praw-7.2.0-py3-none-any.whl (159 kB)\n",
      "Collecting websocket-client>=0.54.0\n",
      "  Downloading websocket_client-0.58.0-py2.py3-none-any.whl (61 kB)\n",
      "Collecting update-checker>=0.18\n",
      "  Downloading update_checker-0.18.0-py3-none-any.whl (7.0 kB)\n",
      "Collecting prawcore<3,>=2\n",
      "  Downloading prawcore-2.0.0-py3-none-any.whl (15 kB)\n",
      "Requirement already satisfied: six in c:\\users\\nico\\anaconda3\\lib\\site-packages (from websocket-client>=0.54.0->praw) (1.15.0)\n",
      "Requirement already satisfied: requests>=2.3.0 in c:\\users\\nico\\anaconda3\\lib\\site-packages (from update-checker>=0.18->praw) (2.24.0)\n",
      "Requirement already satisfied: certifi>=2017.4.17 in c:\\users\\nico\\anaconda3\\lib\\site-packages (from requests>=2.3.0->update-checker>=0.18->praw) (2020.12.5)\n",
      "Requirement already satisfied: idna<3,>=2.5 in c:\\users\\nico\\anaconda3\\lib\\site-packages (from requests>=2.3.0->update-checker>=0.18->praw) (2.10)\n",
      "Requirement already satisfied: chardet<4,>=3.0.2 in c:\\users\\nico\\anaconda3\\lib\\site-packages (from requests>=2.3.0->update-checker>=0.18->praw) (3.0.4)\n",
      "Requirement already satisfied: urllib3!=1.25.0,!=1.25.1,<1.26,>=1.21.1 in c:\\users\\nico\\anaconda3\\lib\\site-packages (from requests>=2.3.0->update-checker>=0.18->praw) (1.25.10)\n",
      "Installing collected packages: websocket-client, update-checker, prawcore, praw\n",
      "Successfully installed praw-7.2.0 prawcore-2.0.0 update-checker-0.18.0 websocket-client-0.58.0\n",
      "Note: you may need to restart the kernel to use updated packages.\n"
     ]
    }
   ],
   "source": [
    "# pip install praw"
   ]
  },
  {
   "cell_type": "code",
   "execution_count": 117,
   "metadata": {},
   "outputs": [],
   "source": [
    "import praw\n",
    "import json\n",
    "import pandas as pd\n",
    "import numpy as np"
   ]
  },
  {
   "cell_type": "code",
   "execution_count": 17,
   "metadata": {},
   "outputs": [],
   "source": [
    "def create_reddit_object(json_file = \"reddit_config.json\", json_key = 'ryujin'):\n",
    "    with open(json_file) as f:\n",
    "        data = json.load(f)\n",
    "        \n",
    "    user_values = data[json_key]\n",
    "    \n",
    "    reddit = praw.Reddit(client_id = user_values['client_id'],\n",
    "                        client_secret = user_values['client_secret'],\n",
    "                        user_agent = user_values['user_agent'],\n",
    "                        username = user_values['username'],\n",
    "                        password = user_values['password'])\n",
    "    return reddit"
   ]
  },
  {
   "cell_type": "code",
   "execution_count": 31,
   "metadata": {},
   "outputs": [],
   "source": [
    "reddit = create_reddit_object()"
   ]
  },
  {
   "cell_type": "code",
   "execution_count": 164,
   "metadata": {},
   "outputs": [
    {
     "data": {
      "text/plain": [
       "praw.reddit.Reddit"
      ]
     },
     "execution_count": 164,
     "metadata": {},
     "output_type": "execute_result"
    }
   ],
   "source": [
    "# https://praw.readthedocs.io/en/latest/code_overview/reddit_instance.html\n",
    "\n",
    "type(reddit)"
   ]
  },
  {
   "cell_type": "code",
   "execution_count": 142,
   "metadata": {},
   "outputs": [],
   "source": [
    "subred = reddit.subreddit(\"ProgrammerHumor\")"
   ]
  },
  {
   "cell_type": "code",
   "execution_count": 160,
   "metadata": {},
   "outputs": [
    {
     "data": {
      "text/plain": [
       "praw.models.reddit.subreddit.Subreddit"
      ]
     },
     "execution_count": 160,
     "metadata": {},
     "output_type": "execute_result"
    }
   ],
   "source": [
    "# https://praw.readthedocs.io/en/latest/code_overview/models/subreddit.html\n",
    "\n",
    "type(subred)"
   ]
  },
  {
   "cell_type": "markdown",
   "metadata": {},
   "source": [
    "Mga need:\n",
    "\n",
    "title, upvote ratio, sefltext, no of comments, is nsfw?, is stickied?"
   ]
  },
  {
   "cell_type": "markdown",
   "metadata": {},
   "source": [
    "Get submissions under 'Hot' only\n",
    "\n",
    "NOTE: There is also a timeframe filter for \"Top\" submissions (i.e., This Month, Now, Today)"
   ]
  },
  {
   "cell_type": "code",
   "execution_count": 167,
   "metadata": {
    "scrolled": true
   },
   "outputs": [
    {
     "data": {
      "text/plain": [
       "1438645"
      ]
     },
     "execution_count": 167,
     "metadata": {},
     "output_type": "execute_result"
    }
   ],
   "source": [
    "subred.subscribers"
   ]
  },
  {
   "cell_type": "code",
   "execution_count": 169,
   "metadata": {},
   "outputs": [],
   "source": [
    "#### GET HOT JOKES\n",
    "\n",
    "\n",
    "hot_dadjokes = subred.top(limit = 10) # change .hot to .new, etc.\n",
    "\n",
    "hot_jokes = []\n",
    "\n",
    "for submission in hot_dadjokes:\n",
    "    item = {\n",
    "                'submission': submission,\n",
    "                'title': submission.title, 'ups_ratio': submission.upvote_ratio, \\\n",
    "                'selftext':submission.selftext, 'num_comments':submission.num_comments, \\\n",
    "                'nsfw':submission.over_18, 'stickied':submission.stickied\n",
    "           }\n",
    "    hot_jokes.append(item)"
   ]
  },
  {
   "cell_type": "code",
   "execution_count": 170,
   "metadata": {},
   "outputs": [
    {
     "data": {
      "text/plain": [
       "praw.models.reddit.submission.Submission"
      ]
     },
     "execution_count": 170,
     "metadata": {},
     "output_type": "execute_result"
    }
   ],
   "source": [
    "# https://praw.readthedocs.io/en/latest/code_overview/models/submission.html\n",
    "\n",
    "type(hot_jokes[0]['submission'])"
   ]
  },
  {
   "cell_type": "code",
   "execution_count": 172,
   "metadata": {},
   "outputs": [
    {
     "data": {
      "text/plain": [
       "False"
      ]
     },
     "execution_count": 172,
     "metadata": {},
     "output_type": "execute_result"
    }
   ],
   "source": [
    "hot_jokes[0]['submission'].clicked"
   ]
  },
  {
   "cell_type": "code",
   "execution_count": 62,
   "metadata": {},
   "outputs": [
    {
     "data": {
      "text/plain": [
       "['STR_FIELD',\n",
       " '__class__',\n",
       " '__delattr__',\n",
       " '__dict__',\n",
       " '__dir__',\n",
       " '__doc__',\n",
       " '__eq__',\n",
       " '__format__',\n",
       " '__ge__',\n",
       " '__getattr__',\n",
       " '__getattribute__',\n",
       " '__gt__',\n",
       " '__hash__',\n",
       " '__init__',\n",
       " '__init_subclass__',\n",
       " '__le__',\n",
       " '__lt__',\n",
       " '__module__',\n",
       " '__ne__',\n",
       " '__new__',\n",
       " '__reduce__',\n",
       " '__reduce_ex__',\n",
       " '__repr__',\n",
       " '__setattr__',\n",
       " '__sizeof__',\n",
       " '__str__',\n",
       " '__subclasshook__',\n",
       " '__weakref__',\n",
       " '_chunk',\n",
       " '_comments_by_id',\n",
       " '_fetch',\n",
       " '_fetch_data',\n",
       " '_fetch_info',\n",
       " '_fetched',\n",
       " '_kind',\n",
       " '_reddit',\n",
       " '_reset_attributes',\n",
       " '_safely_add_arguments',\n",
       " '_url_parts',\n",
       " '_vote',\n",
       " 'all_awardings',\n",
       " 'allow_live_comments',\n",
       " 'approved_at_utc',\n",
       " 'approved_by',\n",
       " 'archived',\n",
       " 'author',\n",
       " 'author_flair_background_color',\n",
       " 'author_flair_css_class',\n",
       " 'author_flair_richtext',\n",
       " 'author_flair_template_id',\n",
       " 'author_flair_text',\n",
       " 'author_flair_text_color',\n",
       " 'author_flair_type',\n",
       " 'author_fullname',\n",
       " 'author_patreon_flair',\n",
       " 'author_premium',\n",
       " 'award',\n",
       " 'awarders',\n",
       " 'banned_at_utc',\n",
       " 'banned_by',\n",
       " 'can_gild',\n",
       " 'can_mod_post',\n",
       " 'category',\n",
       " 'clear_vote',\n",
       " 'clicked',\n",
       " 'comment_limit',\n",
       " 'comment_sort',\n",
       " 'comments',\n",
       " 'content_categories',\n",
       " 'contest_mode',\n",
       " 'created',\n",
       " 'created_utc',\n",
       " 'crosspost',\n",
       " 'delete',\n",
       " 'disable_inbox_replies',\n",
       " 'discussion_type',\n",
       " 'distinguished',\n",
       " 'domain',\n",
       " 'downs',\n",
       " 'downvote',\n",
       " 'duplicates',\n",
       " 'edit',\n",
       " 'edited',\n",
       " 'enable_inbox_replies',\n",
       " 'flair',\n",
       " 'fullname',\n",
       " 'gild',\n",
       " 'gilded',\n",
       " 'gildings',\n",
       " 'hidden',\n",
       " 'hide',\n",
       " 'hide_score',\n",
       " 'id',\n",
       " 'id_from_url',\n",
       " 'is_crosspostable',\n",
       " 'is_meta',\n",
       " 'is_original_content',\n",
       " 'is_reddit_media_domain',\n",
       " 'is_robot_indexable',\n",
       " 'is_self',\n",
       " 'is_video',\n",
       " 'likes',\n",
       " 'link_flair_background_color',\n",
       " 'link_flair_css_class',\n",
       " 'link_flair_richtext',\n",
       " 'link_flair_text',\n",
       " 'link_flair_text_color',\n",
       " 'link_flair_type',\n",
       " 'locked',\n",
       " 'mark_visited',\n",
       " 'media',\n",
       " 'media_embed',\n",
       " 'media_only',\n",
       " 'mod',\n",
       " 'mod_note',\n",
       " 'mod_reason_by',\n",
       " 'mod_reason_title',\n",
       " 'mod_reports',\n",
       " 'name',\n",
       " 'no_follow',\n",
       " 'num_comments',\n",
       " 'num_crossposts',\n",
       " 'num_reports',\n",
       " 'over_18',\n",
       " 'parent_whitelist_status',\n",
       " 'parse',\n",
       " 'permalink',\n",
       " 'pinned',\n",
       " 'pwls',\n",
       " 'quarantine',\n",
       " 'removal_reason',\n",
       " 'removed_by',\n",
       " 'removed_by_category',\n",
       " 'reply',\n",
       " 'report',\n",
       " 'report_reasons',\n",
       " 'save',\n",
       " 'saved',\n",
       " 'score',\n",
       " 'secure_media',\n",
       " 'secure_media_embed',\n",
       " 'selftext',\n",
       " 'selftext_html',\n",
       " 'send_replies',\n",
       " 'shortlink',\n",
       " 'spoiler',\n",
       " 'stickied',\n",
       " 'subreddit',\n",
       " 'subreddit_id',\n",
       " 'subreddit_name_prefixed',\n",
       " 'subreddit_subscribers',\n",
       " 'subreddit_type',\n",
       " 'suggested_sort',\n",
       " 'thumbnail',\n",
       " 'thumbnail_height',\n",
       " 'thumbnail_width',\n",
       " 'title',\n",
       " 'top_awarded_type',\n",
       " 'total_awards_received',\n",
       " 'treatment_tags',\n",
       " 'unhide',\n",
       " 'unsave',\n",
       " 'ups',\n",
       " 'upvote',\n",
       " 'upvote_ratio',\n",
       " 'url',\n",
       " 'user_reports',\n",
       " 'view_count',\n",
       " 'visited',\n",
       " 'whitelist_status',\n",
       " 'wls']"
      ]
     },
     "execution_count": 62,
     "metadata": {},
     "output_type": "execute_result"
    }
   ],
   "source": [
    "# dir(jokes[0])"
   ]
  },
  {
   "cell_type": "code",
   "execution_count": 146,
   "metadata": {
    "scrolled": true
   },
   "outputs": [
    {
     "data": {
      "text/html": [
       "<div>\n",
       "<style scoped>\n",
       "    .dataframe tbody tr th:only-of-type {\n",
       "        vertical-align: middle;\n",
       "    }\n",
       "\n",
       "    .dataframe tbody tr th {\n",
       "        vertical-align: top;\n",
       "    }\n",
       "\n",
       "    .dataframe thead th {\n",
       "        text-align: right;\n",
       "    }\n",
       "</style>\n",
       "<table border=\"1\" class=\"dataframe\">\n",
       "  <thead>\n",
       "    <tr style=\"text-align: right;\">\n",
       "      <th></th>\n",
       "      <th>title</th>\n",
       "      <th>ups_ratio</th>\n",
       "      <th>selftext</th>\n",
       "      <th>num_comments</th>\n",
       "      <th>nsfw</th>\n",
       "      <th>stickied</th>\n",
       "    </tr>\n",
       "  </thead>\n",
       "  <tbody>\n",
       "    <tr>\n",
       "      <th>959</th>\n",
       "      <td>Warning! 18++ content!</td>\n",
       "      <td>0.89</td>\n",
       "      <td>19.</td>\n",
       "      <td>367</td>\n",
       "      <td>True</td>\n",
       "      <td>False</td>\n",
       "    </tr>\n",
       "  </tbody>\n",
       "</table>\n",
       "</div>"
      ],
      "text/plain": [
       "                      title  ups_ratio selftext  num_comments  nsfw  stickied\n",
       "959  Warning! 18++ content!       0.89      19.           367  True     False"
      ]
     },
     "execution_count": 146,
     "metadata": {},
     "output_type": "execute_result"
    }
   ],
   "source": [
    "hot_jokes_df = pd.DataFrame(hot_jokes)\n",
    "hot_jokes_df[ (~hot_jokes_df['selftext'].isnull()) & (hot_jokes_df['selftext'] != '') & (hot_jokes_df['stickied'] == False) ]"
   ]
  },
  {
   "cell_type": "markdown",
   "metadata": {},
   "source": [
    "Mga need:\n",
    "\n",
    "title, upvote ratio, sefltext, no of comments, is nsfw?, is stickied?"
   ]
  },
  {
   "cell_type": "code",
   "execution_count": 112,
   "metadata": {},
   "outputs": [
    {
     "data": {
      "text/plain": [
       "title           0\n",
       "ups_ratio       0\n",
       "selftext        0\n",
       "num_comments    0\n",
       "nsfw            0\n",
       "stickied        0\n",
       "dtype: int64"
      ]
     },
     "execution_count": 112,
     "metadata": {},
     "output_type": "execute_result"
    }
   ],
   "source": [
    "hot_jokes_df.isnull().sum()"
   ]
  },
  {
   "cell_type": "code",
   "execution_count": 113,
   "metadata": {},
   "outputs": [
    {
     "data": {
      "text/plain": [
       "title            object\n",
       "ups_ratio       float64\n",
       "selftext         object\n",
       "num_comments      int64\n",
       "nsfw               bool\n",
       "stickied           bool\n",
       "dtype: object"
      ]
     },
     "execution_count": 113,
     "metadata": {},
     "output_type": "execute_result"
    }
   ],
   "source": [
    "hot_jokes_df.dtypes"
   ]
  },
  {
   "cell_type": "code",
   "execution_count": 114,
   "metadata": {},
   "outputs": [],
   "source": [
    "#### GET TOP JOKES\n",
    "\n",
    "\n",
    "top_dadjokes = subred.top(limit = 900) # change .hot to .new, etc.\n",
    "\n",
    "top_jokes = []\n",
    "\n",
    "for submission in top_dadjokes:\n",
    "    item = {\n",
    "                'title': submission.title, 'ups_ratio': submission.upvote_ratio, \\\n",
    "                'selftext':submission.selftext, 'num_comments':submission.num_comments, \\\n",
    "                'nsfw':submission.over_18, 'stickied':submission.stickied\n",
    "           }\n",
    "    top_jokes.append(item)"
   ]
  },
  {
   "cell_type": "code",
   "execution_count": 115,
   "metadata": {},
   "outputs": [
    {
     "data": {
      "text/plain": [
       "{'title': 'BREAKING: Iran has struck its own submarine with an underwater torpedo in the Persian Gulf, killing all 350 aboard',\n",
       " 'ups_ratio': 0.85,\n",
       " 'selftext': 'Whoops wrong sub',\n",
       " 'num_comments': 1275,\n",
       " 'nsfw': False,\n",
       " 'stickied': False}"
      ]
     },
     "execution_count": 115,
     "metadata": {},
     "output_type": "execute_result"
    }
   ],
   "source": [
    "top_jokes[0]"
   ]
  },
  {
   "cell_type": "code",
   "execution_count": 116,
   "metadata": {},
   "outputs": [
    {
     "data": {
      "text/html": [
       "<div>\n",
       "<style scoped>\n",
       "    .dataframe tbody tr th:only-of-type {\n",
       "        vertical-align: middle;\n",
       "    }\n",
       "\n",
       "    .dataframe tbody tr th {\n",
       "        vertical-align: top;\n",
       "    }\n",
       "\n",
       "    .dataframe thead th {\n",
       "        text-align: right;\n",
       "    }\n",
       "</style>\n",
       "<table border=\"1\" class=\"dataframe\">\n",
       "  <thead>\n",
       "    <tr style=\"text-align: right;\">\n",
       "      <th></th>\n",
       "      <th>title</th>\n",
       "      <th>ups_ratio</th>\n",
       "      <th>selftext</th>\n",
       "      <th>num_comments</th>\n",
       "      <th>nsfw</th>\n",
       "      <th>stickied</th>\n",
       "    </tr>\n",
       "  </thead>\n",
       "  <tbody>\n",
       "    <tr>\n",
       "      <th>0</th>\n",
       "      <td>BREAKING: Iran has struck its own submarine wi...</td>\n",
       "      <td>0.85</td>\n",
       "      <td>Whoops wrong sub</td>\n",
       "      <td>1275</td>\n",
       "      <td>False</td>\n",
       "      <td>False</td>\n",
       "    </tr>\n",
       "    <tr>\n",
       "      <th>1</th>\n",
       "      <td>Today, my son asked \"Can I have a book mark?\" ...</td>\n",
       "      <td>0.92</td>\n",
       "      <td></td>\n",
       "      <td>200</td>\n",
       "      <td>False</td>\n",
       "      <td>False</td>\n",
       "    </tr>\n",
       "    <tr>\n",
       "      <th>2</th>\n",
       "      <td>People keep saying today is Pi day</td>\n",
       "      <td>0.91</td>\n",
       "      <td>But to me, March 14th will always be cake day....</td>\n",
       "      <td>677</td>\n",
       "      <td>False</td>\n",
       "      <td>False</td>\n",
       "    </tr>\n",
       "    <tr>\n",
       "      <th>3</th>\n",
       "      <td>My wife just completed a 40 week body building...</td>\n",
       "      <td>0.96</td>\n",
       "      <td>It's a girl and weighs 7lbs 12 oz.</td>\n",
       "      <td>495</td>\n",
       "      <td>False</td>\n",
       "      <td>False</td>\n",
       "    </tr>\n",
       "    <tr>\n",
       "      <th>4</th>\n",
       "      <td>Is this sub still active?</td>\n",
       "      <td>0.85</td>\n",
       "      <td>There hasn’t been any posts all year.</td>\n",
       "      <td>329</td>\n",
       "      <td>False</td>\n",
       "      <td>False</td>\n",
       "    </tr>\n",
       "    <tr>\n",
       "      <th>...</th>\n",
       "      <td>...</td>\n",
       "      <td>...</td>\n",
       "      <td>...</td>\n",
       "      <td>...</td>\n",
       "      <td>...</td>\n",
       "      <td>...</td>\n",
       "    </tr>\n",
       "    <tr>\n",
       "      <th>895</th>\n",
       "      <td>I'm a member of the American Medical Associati...</td>\n",
       "      <td>0.93</td>\n",
       "      <td></td>\n",
       "      <td>112</td>\n",
       "      <td>False</td>\n",
       "      <td>False</td>\n",
       "    </tr>\n",
       "    <tr>\n",
       "      <th>896</th>\n",
       "      <td>Women are like grenades...</td>\n",
       "      <td>0.94</td>\n",
       "      <td>Remove the ring and your house is gone.</td>\n",
       "      <td>197</td>\n",
       "      <td>False</td>\n",
       "      <td>False</td>\n",
       "    </tr>\n",
       "    <tr>\n",
       "      <th>897</th>\n",
       "      <td>My wife saw an ant picking up a leaf 5 times i...</td>\n",
       "      <td>0.96</td>\n",
       "      <td>So I picked up the leaf and said, “Yes.”</td>\n",
       "      <td>71</td>\n",
       "      <td>False</td>\n",
       "      <td>False</td>\n",
       "    </tr>\n",
       "    <tr>\n",
       "      <th>898</th>\n",
       "      <td>Who ever invented Knock-Knock jokes should get...</td>\n",
       "      <td>0.94</td>\n",
       "      <td></td>\n",
       "      <td>133</td>\n",
       "      <td>False</td>\n",
       "      <td>False</td>\n",
       "    </tr>\n",
       "    <tr>\n",
       "      <th>899</th>\n",
       "      <td>Mahatma Gandhi, as you know, walked barefoot m...</td>\n",
       "      <td>0.92</td>\n",
       "      <td>This made him, A super calloused fragile mysti...</td>\n",
       "      <td>175</td>\n",
       "      <td>False</td>\n",
       "      <td>False</td>\n",
       "    </tr>\n",
       "  </tbody>\n",
       "</table>\n",
       "<p>900 rows × 6 columns</p>\n",
       "</div>"
      ],
      "text/plain": [
       "                                                 title  ups_ratio  \\\n",
       "0    BREAKING: Iran has struck its own submarine wi...       0.85   \n",
       "1    Today, my son asked \"Can I have a book mark?\" ...       0.92   \n",
       "2                   People keep saying today is Pi day       0.91   \n",
       "3    My wife just completed a 40 week body building...       0.96   \n",
       "4                            Is this sub still active?       0.85   \n",
       "..                                                 ...        ...   \n",
       "895  I'm a member of the American Medical Associati...       0.93   \n",
       "896                         Women are like grenades...       0.94   \n",
       "897  My wife saw an ant picking up a leaf 5 times i...       0.96   \n",
       "898  Who ever invented Knock-Knock jokes should get...       0.94   \n",
       "899  Mahatma Gandhi, as you know, walked barefoot m...       0.92   \n",
       "\n",
       "                                              selftext  num_comments   nsfw  \\\n",
       "0                                     Whoops wrong sub          1275  False   \n",
       "1                                                                200  False   \n",
       "2    But to me, March 14th will always be cake day....           677  False   \n",
       "3                   It's a girl and weighs 7lbs 12 oz.           495  False   \n",
       "4                There hasn’t been any posts all year.           329  False   \n",
       "..                                                 ...           ...    ...   \n",
       "895                                                              112  False   \n",
       "896            Remove the ring and your house is gone.           197  False   \n",
       "897           So I picked up the leaf and said, “Yes.”            71  False   \n",
       "898                                                              133  False   \n",
       "899  This made him, A super calloused fragile mysti...           175  False   \n",
       "\n",
       "     stickied  \n",
       "0       False  \n",
       "1       False  \n",
       "2       False  \n",
       "3       False  \n",
       "4       False  \n",
       "..        ...  \n",
       "895     False  \n",
       "896     False  \n",
       "897     False  \n",
       "898     False  \n",
       "899     False  \n",
       "\n",
       "[900 rows x 6 columns]"
      ]
     },
     "execution_count": 116,
     "metadata": {},
     "output_type": "execute_result"
    }
   ],
   "source": [
    "top_jokes_df = pd.DataFrame(top_jokes)\n",
    "top_jokes_df"
   ]
  }
 ],
 "metadata": {
  "kernelspec": {
   "display_name": "Python 3",
   "language": "python",
   "name": "python3"
  },
  "language_info": {
   "codemirror_mode": {
    "name": "ipython",
    "version": 3
   },
   "file_extension": ".py",
   "mimetype": "text/x-python",
   "name": "python",
   "nbconvert_exporter": "python",
   "pygments_lexer": "ipython3",
   "version": "3.7.7"
  }
 },
 "nbformat": 4,
 "nbformat_minor": 4
}
