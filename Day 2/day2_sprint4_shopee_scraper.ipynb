{
 "cells": [
  {
   "cell_type": "code",
   "execution_count": 12,
   "metadata": {},
   "outputs": [
    {
     "name": "stdout",
     "output_type": "stream",
     "text": [
      "Collecting selenium\n",
      "  Using cached selenium-3.141.0-py2.py3-none-any.whl (904 kB)\n",
      "Requirement already satisfied: urllib3 in c:\\users\\nico\\anaconda3\\lib\\site-packages (from selenium) (1.25.10)\n",
      "Installing collected packages: selenium\n",
      "Successfully installed selenium-3.141.0\n",
      "Note: you may need to restart the kernel to use updated packages.\n"
     ]
    }
   ],
   "source": [
    "# pip install selenium"
   ]
  },
  {
   "cell_type": "code",
   "execution_count": 9,
   "metadata": {},
   "outputs": [],
   "source": [
    "from bs4 import BeautifulSoup\n",
    "from IPython import embed\n",
    "import requests\n",
    "import time\n",
    "import re\n",
    "\n",
    "headers = { 'User-Agent': 'Mozilla/5.0 (x11; Linux x86_64)'}\n",
    "\n",
    "time.sleep(2)\n",
    "\n",
    "BASE_URL=\"https://shopee.ph/search?keyword=air%20fryer\"\n",
    "\n",
    "def extract_html_content(target_url):\n",
    "    response = requests.get(target_url, headers)\n",
    "    return response.text\n",
    "    \n",
    "\n",
    "    \n",
    "html_content=extract_html_content(BASE_URL)\n",
    "    \n",
    "soup = BeautifulSoup(html_content, 'lxml')\n",
    "\n",
    "# links = soup.find_all(\"div\")\n",
    "\n",
    "# for i in links:\n",
    "#     print(i.get_text())"
   ]
  },
  {
   "cell_type": "code",
   "execution_count": 10,
   "metadata": {},
   "outputs": [
    {
     "data": {
      "text/plain": [
       "['html',\n",
       " <html><head><link href=\"//cf.shopee.ph/\" rel=\"preconnect\"/><link href=\"//deo.shopeemobile.com/shopee/\" rel=\"preconnect\"/><link href=\"//cv.shopee.ph/\" rel=\"preconnect\"/><meta charset=\"utf-8\"/><meta content=\"width=device-width,initial-scale=1,maximum-scale=1,minimum-scale=1,user-scalable=no,viewport-fit=cover\" name=\"viewport\"/><meta content=\"ab39a3b5e207b007d5880c2ed3151d6c07d810c1\" name=\"shopee:git-sha\"/><meta content=\"rw-v3.72.2\" name=\"shopee:version\"/><script>window.__PAGE_ID__ = 12;\n",
       "       window.__LOCALE__ = 'PH';\n",
       "       window.__ENV__ = 'live';\n",
       "       window.__ASSETS__ = {\"CCMS_FEATURE_TOGGLE\":{\"ALL_CATEGORIES_HOMEPAGE_ENTRANCE\":{\"default\":false,\"TW\":true,\"VN\":true,\"PH\":true,\"MY\":true,\"ID\":true},\"AMP_CATEGORY_PAGE\":{\"default\":true},\"BUNDLE_DEALS\":{\"default\":true},\"BUNDLE_DEAL_11\":{\"default\":true},\"COMMENT_BUTTON_WHITELIST\":{\"default\":[{\"username\":\"shopeesg\",\"userid\":11918,\"shopid\":11918},{\"username\":\"shopee_mamak\",\"userid\":145427,\"shopid\":145423},{\"username\":\"shopeetreats\",\"userid\":429435,\"shopid\":429375},{\"username\":\"shopeeth\",\"userid\":727272,\"shopid\":726766},{\"username\":\"shopee_tw\",\"userid\":470473,\"shopid\":470357},{\"username\":\"shopee_beauty\",\"userid\":26046080,\"shopid\":26044744},{\"username\":\"shopeeid\",\"userid\":1290517,\"shopid\":1289539},{\"username\":\"shopeevn\",\"userid\":1756170,\"shopid\":1754914},{\"username\":\"shopeevn\",\"userid\":2216427,\"shopid\":2215148},{\"username\":\"shopee24h\",\"userid\":37138984,\"shopid\":37137599}]},\"DAILY_DISCOVER_TABS\":{\"TH\":true,\"default\":false,\"TW\":true,\"VN\":true,\"BR\":true,\"SG\":true},\"FEATURED_COLLECTIONS\":{\"default\":true},\"FILTER_COD\":{\"default\":false,\"MY\":true,\"ID\":true},\"FILTER_CREDIT_CARD\":{\"default\":false,\"TW\":true},\"FILTER_DRAWER_3PL\":{\"default\":true,\"MY\":false,\"TH\":false},\"FILTER_DRAWER_INSTALLMENT\":{\"default\":false,\"ID\":true},\"FILTER_DRAWER_LOCATION\":{\"default\":true},\"FILTER_DRAWER_MALL\":{\"default\":true,\"BR\":false},\"FILTER_LOCATION_PHASE_2\":{\"default\":false,\"ID\":true,\"VN\":true},\"FILTER_LOWEST_PRICE_GUARANTEE\":{\"default\":true,\"TW\":false},\"FILTER_SERVICE_BY_SHOPEE\":{\"default\":false,\"TW\":true,\"ID\":true},\"FILTER_SHORTCUT_3PL\":{\"default\":false,\"ID\":true,\"VN\":true},\"FILTER_SHORTCUT_COD\":{\"default\":false,\"MY\":true},\"FILTER_SHORTCUT_LOCATION\":{\"default\":false,\"TW\":true,\"VN\":true,\"MY\":true,\"PH\":true,\"SG\":true,\"ID\":true},\"FILTER_SHORTCUT_MALL\":{\"default\":true,\"BR\":false},\"FLASH_SALE_CATEGORIES\":{\"default\":true},\"FLOATING_ICON\":{\"default\":true},\"FROM_SAME_SHOP\":{\"default\":true},\"GRAY_SKIN\":{\"default\":false},\"GROUP_BUY\":{\"default\":false,\"TW\":true,\"ID\":true},\"GROUP_BUY_ONGOING_GROUP\":{\"default\":true},\"GTM_TRACKING\":{\"default\":true},\"INSTALLMENT\":{\"default\":true},\"ITEM_CARD_DISPLAY_LOCATION\":{\"default\":true},\"ITEM_LIST_ADULT_CHECK\":{\"default\":false,\"TW\":true,\"ID\":true,\"VN\":true},\"NEW_ADS_TRACKER\":{\"default\":100,\"TW\":50,\"ID\":100},\"NEW_SELLER_PENALTY\":{\"default\":true},\"NEW_YOU_MAY_ALSO_LIKE\":{\"default\":true},\"OFFICIAL_SHOP\":{\"default\":true,\"BR\":false,\"IN\":false},\"OFFICIAL_SHOP_BRAND_LABEL\":{\"default\":true,\"MY\":false,\"BR\":false,\"IN\":false},\"OFFICIAL_SHOP_LABEL_INLINE\":{\"default\":true,\"BR\":false,\"IN\":false},\"OFFICIAL_SHOP_LANDING\":{\"default\":true,\"BR\":false,\"IN\":false},\"OFFICIAL_SHOP_MALL_URL\":{\"default\":true,\"BR\":false,\"IN\":false},\"OFFICIAL_SHOP_SELLING_POINT\":{\"default\":true,\"BR\":false,\"IN\":false},\"OFFICIAL_SHOP_THEME\":{\"default\":true,\"BR\":false,\"IN\":false},\"OPC_UX_IMPROVEMENT\":{\"default\":false,\"MY\":false,\"BR\":true,\"TH\":false},\"ORDER_PAID_PAGE_BUTTON\":{\"default\":{\"url\":\"/\",\"title\":\"Home Page\"},\"MY\":{\"url\":\"/\",\"title\":\"Home Page\"},\"ID\":{\"url\":\"/\",\"title\":\"Halaman Utama\"},\"TH\":{\"url\":\"/\",\"title\":\"โฮมเพจ\"}},\"PERSONALIZED_TRENDING_SEARCH\":{\"default\":true},\"PRODUCT_CARD_V1_4\":{\"default\":{\"A\":[0,100],\"B\":[100,100]}},\"PRODUCT_CARD_V1_4_location\":{\"default\":[0,100],\"PH\":[0,0],\"SG\":[0,0]},\"PRODUCT_CATALOGUE\":{\"default\":true},\"PRODUCT_DIKELOLA_SHOPEE\":{\"default\":false,\"ID\":true},\"PRODUCT_SOLD_COUNT_CAP\":{\"default\":false,\"ID\":true},\"RECOMMEND_ITEM\":{\"default\":true},\"RN_MICRO_SITE\":{\"default\":true},\"RW_ONE_PAGE_CHECKOUT\":{\"default\":true},\"RW_OPC_UX_SHIPPING_RECOMMENDATIONS\":{\"default\":false,\"MY\":true,\"TH\":true},\"RW_OPC_UX_TOTAL_PAYMENT_STICKY\":{\"default\":false,\"SG\":true,\"VN\":true,\"TH\":true,\"PH\":true,\"MY\":true},\"SEARCHPAGE_MYADS_ENTRANCE\":{\"default\":false,\"TW\":true,\"ID\":true,\"VN\":true,\"TH\":true},\"SEARCH_PREFILL\":{\"default\":false},\"SHOPEE_BUDDY\":{\"default\":false,\"TH\":true},\"SHOP_VOUCHERS\":{\"default\":true},\"SHOW_OFFICIAL_SHOP_LABEL\":{\"default\":true,\"BR\":false,\"IN\":false},\"SHOW_OPC_WARNING\":{\"default\":false,\"TW\":false},\"SHOW_SOLD_COUNT\":{\"default\":true,\"BR\":false,\"IN\":false},\"SKINNY_BANNER\":{\"default\":true},\"SLASH_PRICE\":{\"default\":false,\"TW\":true,\"SG\":true},\"SUPPORT_CHECKOUT_GEO_LOCATION\":{\"default\":false,\"MY\":true,\"ID\":true,\"VN\":true,\"TH\":true},\"THREE_PL_MASKING\":{\"default\":false,\"VN\":true,\"TH\":true,\"PH\":true,\"MY\":true,\"ID\":true},\"TIER_VARIATIONS_MAX_COMBINATIONS\":{\"default\":50},\"TIER_VARIATIONS_MAX_OPTIONS_PER_VARIATION\":{\"default\":20,\"TW\":50},\"TOP_PRODUCTS\":{\"default\":true},\"TWO_TIER_VARIATION\":{\"default\":true},\"TW_KYC_POPUP_WEB\":{\"default\":false,\"TW\":true},\"WALLET_AUTO_WITHDRAWAL_SETTING\":{\"default\":false,\"SG\":true,\"PH\":true,\"MY\":true,\"VN\":true},\"WALLET_WITHDRAWAL_FEE\":{\"default\":true},\"WELCOME_PACKAGE_POPUP_FIRST\":{\"TH\":true,\"default\":false,\"TW\":true,\"VN\":true,\"BR\":true,\"IN\":true,\"ID\":true}},\"FESTIVAL_SKIN\":{\"data\":[{\"status\":1,\"mobile_top_nav_bar\":{\"color\":\"white\",\"background_image_long\":\"61e371d181045795213790fdf5c7c0a6\",\"display\":1,\"background_image_standard\":\"78611dfc2c09f4bbdfab377ea5208e01\"},\"end\":1617638400,\"name\":\"3.3-4.4 Mega Shopping Sale\",\"pc\":{\"banner\":{\"image_type\":\"fs\",\"image\":\"f5b5042f0f0fd07b37f70418224f8c8f\",\"display_height\":800,\"display_width\":3400},\"display\":1},\"mobile\":{\"display\":1,\"custom_header\":{\"CATEGORY\":{\"background_image\":\"899022d516482992fd3aaa95c98d5b03\"},\"DAILY_DISCOVER\":{\"background_image\":\"1270bfdd894f9e3f7e6265ae08cdb6e9\"}},\"apply_to_pc\":false},\"start\":1613577600,\"mtime\":1613553236,\"operator\":\"jennifer.lee@shopee.com\",\"id\":10}]},\"PAGE_MANIFEST\":{\"mobilemall-allcampaigns\":\"\"},\"TRANSIFY_COLLECTION_MAPPING\":{\"en-live-73\":1613372942,\"en-live-113\":1598261346,\"en-live-111\":1597290967,\"en-live-118\":1610963792,\"en-live-85\":1593681029,\"en-live-83\":1593681068,\"en-live-239\":1614164925,\"en-live-235\":1614165244,\"en-live-231\":1608028928,\"en-live-167\":1597389538,\"en-live-166\":1597141880,\"en-live-129\":1597749313,\"en-live-224\":1607486489,\"en-live-223\":1612342190,\"en-live-43\":1603283564,\"en-live-42\":1593681397,\"en-live-40\":1609387239,\"en-live-214\":1610345716,\"en-live-141\":1593680091,\"en-live-140\":1598261329,\"en-live-143\":1593678437,\"en-live-145\":1593681387,\"en-live-147\":1593681375,\"en-live-30\":1611564530,\"en-live-31\":1593679081,\"en-live-206\":1606814335,\"en-live-204\":1613542897,\"en-live-209\":1607596149,\"en-live-158\":1594717427,\"en-live-155\":1603130160,\"en-live-151\":1613634391,\"en-live-27\":1614076055,\"en-live-21\":1613382158,\"en-live-20\":1597290650,\"en-live-29\":1607399857,\"en-live-28\":1613733655,\"en-live-10\":1593679634,\"en-live-14\":1614151398,\"en-live-15\":1614062854,\"en-live-16\":1610421573,\"en-live-17\":1599445967,\"en-live-184\":1599448355,\"en-live-189\":1603704314,\"en-live-18\":1602842595,\"en-live-128\":1597284092,\"en-live-138\":1598497753,\"en-live-131\":1605166231,\"en-live-132\":1593680126,\"en-live-136\":1612514691,\"en-live-8\":1614678016,\"en-live-9\":1613557226,\"en-live-108\":1593677780,\"en-live-107\":1593679622,\"en-live-101\":1606300707,\"en-live-100\":1608518783,\"en-live-102\":1614076896},\"TRANSIFY_MAPPING\":{\"id-live\":1614567608,\"vi-live\":1614567608,\"es-co-live\":1614567608,\"en-live\":1614567608,\"es-cl-live\":1614567608,\"es-mx-live\":1614567608,\"zh-hant-live\":1614567608,\"th-live\":1614567608,\"ms-my-live\":1614567608,\"zh-hans-live\":1614567608,\"pt-br-live\":1614567608}};</script><script>function isModernBrowser() {\n",
       "         return !!window.fetch && !!Object.values && !!Object.entries && !![].flat;\n",
       "       }\n",
       " \n",
       "       if (!isModernBrowser()) {\n",
       "         document.write('<script type=\"text/javascript\" src=\"https://deo.shopeemobile.com/shopee/shopee-mobilemall-live-sg/assets/polyfill.a2234227c7b5cd65f6e0.js\"><\\/script>');\n",
       "       }</script><script>function showBody(){document&&document.body&&(document.body.style.visibility=\"visible\")}var SHORT_URL_MAX_LENGTH=256,pathname=location&&location.pathname;if(\"/\"!==pathname&&pathname.length<SHORT_URL_MAX_LENGTH&&\"\"===location.hash&&-1===pathname.indexOf(\"-\")&&0===pathname.lastIndexOf(\"/\")){document&&document.body&&(document.body.style.visibility=\"hidden\"),setTimeout(showBody,5e3);var xhr=new XMLHttpRequest;xhr.open(\"GET\",\"/api/v0/is_short_url/?path=\"+pathname.replace(\"/\",\"\")),xhr.setRequestHeader(\"Content-Type\",\"application/json\"),xhr.setRequestHeader(\"Accept\",\"application/json\"),xhr.onreadystatechange=function(){if(4===this.readyState)if(200===this.status)if(JSON.parse(this.responseText).error)showBody();else{var e=document.createElement(\"a\");e.href=location.href,e.search+=\"?\"===e.search[0]?\"&__classic__=1\":\"?__classic__=1\",location.href=e.href}else showBody()},xhr.send()}</script><script>if(window.ga=window.ga||function(){(ga.q=ga.q||[]).push(arguments)},ga.l=+new Date,window.PerformanceObserver){var observer=new window.PerformanceObserver((function(e){for(var r=e.getEntries(),n=0;n<r.length;n++){var a=r[n],i=a.name,t=Math.round(a.startTime+a.duration);ga(\"send\",{hitType:\"timing\",timingCategory:\"Performance Metrics\",timingVar:i,timingValue:t})}}));observer.observe({entryTypes:[\"paint\"]})}</script><script>\"loading\"in HTMLImageElement.prototype?document.addEventListener(\"DOMContentLoaded\",()=>{document.querySelectorAll(\"img[loading]\").forEach(e=>{e.src=e.dataset.src})}):document.write('<script type=\"text/javascript\" src=\"https://deo.shopeemobile.com/shopee/shopee-mobilemall-live-sg/assets/lazysizes.474f4097550dc096a57e.js\"><\\/script>');</script><script>dataLayer = [];\n",
       "       (function(w, d, s, l, i) {\n",
       "         var userGroup = 'no-delay';\n",
       "         var key = 'GTM_DELAY';\n",
       "         var percentage = 100;\n",
       "         try {\n",
       "           if (localStorage) {\n",
       "             var value = localStorage.getItem(key);\n",
       "             if (!value) {\n",
       "               value = Math.floor(Math.random()*100) + '';\n",
       "               localStorage.setItem(key, value);\n",
       "             }\n",
       "             value = parseInt(value, 10);\n",
       "             if (value && !Number.isNaN(value) && value < percentage) {\n",
       "               userGroup = 'delay';\n",
       "             }\n",
       "           }\n",
       "         } catch(e) {\n",
       "           console.log(e);\n",
       "         }\n",
       "         var delay = userGroup === 'delay' ? 5000 : 0;\n",
       "         w[l] = w[l] || [];\n",
       "         w[l].push({\n",
       "           'gtm.start': new Date().getTime(),\n",
       "           event: 'gtm.js',\n",
       "           country: 'ph',\n",
       "           userGroup: userGroup,\n",
       "         });\n",
       "         setTimeout(function() {\n",
       "           var f = d.getElementsByTagName(s)[0],\n",
       "           j = d.createElement(s),\n",
       "           dl = l != 'dataLayer' ? '&l=' + l : '';\n",
       "           j.async = true;\n",
       "           j.src = '//www.googletagmanager.com/gtm.js?id=' + i + dl;\n",
       "           f.parentNode.insertBefore(j, f);\n",
       "         }, delay)\n",
       " \n",
       "       })(\n",
       "         window,\n",
       "         document,\n",
       "         'script',\n",
       "         'dataLayer',\n",
       "         'GTM-WJZQSJF'\n",
       "       );</script><script>var spt = [];</script><link href=\"https://deo.shopeemobile.com/shopee/shopee-mobilemall-live-sg/assets/358.0313aa015dbf75a616c2.css\" rel=\"stylesheet\"/><link href=\"https://deo.shopeemobile.com/shopee/shopee-mobilemall-live-sg/assets/361.cf41d6c92fbd2bafbd99.css\" rel=\"stylesheet\"/><meta content=\"#EE4D2D\" name=\"theme-color\"/><link href=\"/m/assets/manifest.3f8a25547e5e6237e98420c84a751a62.json\" rel=\"manifest\"/><meta content=\"yes\" name=\"mobile-web-app-capable\"/><meta content=\"yes\" name=\"apple-touch-fullscreen\"/><meta content=\"Shopee\" name=\"apple-mobile-web-app-title\"/><meta content=\"yes\" name=\"apple-mobile-web-app-capable\"/><meta content=\"default\" name=\"apple-mobile-web-app-status-bar-style\"/><link href=\"autoios_icon_120x120.9c9cd4366011639d86dcf03856866b39.png\" rel=\"apple-touch-icon\" size=\"120x120\"/><link href=\"autoios_icon_180x180.350d4cdc7ba40b87541691005bda74c5.png\" rel=\"apple-touch-icon\" size=\"180x180\"/><link href=\"autoios_splash_screen_640x1136.44f3b1919faea215b1e8a8f33bc85eb2.png\" media=\"(device-width: 320px) and (device-height: 568px) and (-webkit-device-pixel-ratio: 2)\" rel=\"apple-touch-startup-image\"/><link href=\"autoios_splash_screen_750x1334.e7f516f762373cc6c316d37455600b8a.png\" media=\"(device-width: 375px) and (device-height: 667px) and (-webkit-device-pixel-ratio: 2)\" rel=\"apple-touch-startup-image\"/><link href=\"autoios_splash_screen_1242x2208.0030ddfcb47d1a8f7f34ea1f488e063d.png\" media=\"(device-width: 621px) and (device-height: 1104px) and (-webkit-device-pixel-ratio: 3)\" rel=\"apple-touch-startup-image\"/><link href=\"autoios_splash_screen_1125x2436.d03df48b337e7e7f19d94203a800123b.png\" media=\"(device-width: 375px) and (device-height: 812px) and (-webkit-device-pixel-ratio: 3)\" rel=\"apple-touch-startup-image\"/><link href=\"autoios_splash_screen_828x1792.848d89109908599fcf6edf6e0b7c6cde.png\" media=\"(device-width: 414px) and (device-height: 896px) and (-webkit-device-pixel-ratio: 2)\" rel=\"apple-touch-startup-image\"/><link href=\"autoios_splash_screen_1242x2688.806794fa2096fd0d63f138f9380033ab.png\" media=\"(device-width: 414px) and (device-height: 896px) and (-webkit-device-pixel-ratio: 3)\" rel=\"apple-touch-startup-image\"/><link as=\"style\" href=\"https://deo.shopeemobile.com/shopee/shopee-mobilemall-live-sg/assets/358.0313aa015dbf75a616c2.css\" rel=\"preload\"/><link as=\"style\" href=\"https://deo.shopeemobile.com/shopee/shopee-mobilemall-live-sg/assets/361.cf41d6c92fbd2bafbd99.css\" rel=\"preload\"/><link as=\"script\" href=\"https://deo.shopeemobile.com/shopee/shopee-mobilemall-live-sg/assets/bundle.0313aa015dbf75a616c2.js\" rel=\"preload\"/><link as=\"script\" href=\"https://deo.shopeemobile.com/shopee/shopee-mobilemall-live-sg/assets/modules.cf41d6c92fbd2bafbd99.js\" rel=\"preload\"/><link as=\"script\" href=\"https://deo.shopeemobile.com/shopee/shopee-mobilemall-live-sg/assets/webpack-runtime.1b17cb1e415599992146.js\" rel=\"preload\"/><link as=\"fetch\" crossorigin=\"anonymous\" href=\"https://deo.shopeemobile.com/shopee/stm-sg-live/shopee-mobilemall-live-sg/en.1614567608.json\" rel=\"preload\"/><style data-href=\"https://deo.shopeemobile.com/shopee/shopee-mobilemall-live-sg/assets/226.9cd78599a72afded54b2.css\">.scroll-to-top{cursor:pointer;-webkit-user-select:none;-moz-user-select:none;-ms-user-select:none;user-select:none;position:fixed;right:.875rem;bottom:.875rem;z-index:8999;width:2.6875rem;height:2.6875rem}.scroll-to-top--with-safe-area-inset-bottom{-webkit-transform:translateY(0);transform:translateY(0);-webkit-transform:translateY(-webkit-calc(-1*env(safe-area-inset-bottom,0)));transform:translateY(calc(-1*env(safe-area-inset-bottom, 0)))}.search-page .stardust-spinner{position:fixed;top:50%;left:0;right:0;margin-top:-.5rem}.search-page .stardust-spinner__main{background:transparent}.theme--ofs .navbar-generic__back,.theme--ofs .navbar-generic__menu,.theme--ofs .navbar-search__filter{fill:#d0011b!important;stroke:#d0011b!important}.theme--ofs .navbar-search__filter-text,.theme--ofs .stardust-tabs-header__tab--active{color:#d0011b!important}.theme--ofs .stardust-tabs-header__tab--active .stardust-icon{fill:#d0011b!important}.theme--ofs .stardust-tabs-header__tab-indicator{background-color:#d0011b!important}.theme--ofs .filter-bar-item--selected .stardust-button{border-color:#d0011b!important;color:#d0011b!important}.theme--ofs .filter-bar-item--selected .stardust-icon{color:#d0011b!important}.theme--ofs .filter-bar-item--selected.stardust-button,.theme--ofs .filter-bar-item--selected.stardust-button:hover{border-color:#d0011b!important;color:#d0011b!important}.theme--ofs .filter-bar-item--expanded .filter-bar-item__inner-text,.theme--ofs .filter-bar-item--expanded .stardust-button{color:#d0011b!important}.theme--ofs .filter-bar-item--expanded .stardust-icon{fill:#d0011b!important}.theme--ofs .filter-bar-popover__item--selected{color:#d0011b!important;border-color:#d0011b!important}.theme--ofs .filter-bar-popover__row--selected .filter-bar-popover__row-inner,.theme--ofs .filter-bar-popover__row--selected .stardust-icon,.theme--ofs .infinite-scroll__loading,.theme--ofs .item-card-list__no-more,.theme--ofs .search-items-footer-hint__link{color:#d0011b!important}</style><link as=\"script\" href=\"https://deo.shopeemobile.com/shopee/shopee-mobilemall-live-sg/assets/default~AccountChangePhoneNumber~CollectionPage~FilterDrawer~HomeContentPreviewPage~HomePage~Officia~fd85a559.46a1b4b0d86b73425e0f.js\" rel=\"preload\"/><link as=\"script\" href=\"https://deo.shopeemobile.com/shopee/shopee-mobilemall-live-sg/assets/PageSearch.9cd78599a72afded54b2.js\" rel=\"preload\"/><script>\n",
       "     window.__LOCALE__ = 'PH';\n",
       "     window.__ENV__ = 'live';\n",
       "   </script></head><body><noscript><iframe height=\"0\" src=\"//www.googletagmanager.com/ns.html?id=GTM-WJZQSJF\" style=\"display:none;visibility:hidden\" width=\"0\"></iframe></noscript><div class=\"app-shell\"><div class=\"navbar-fake\" style=\"height: 44px; background-color: white; box-shadow: 0 0 6px 0 rgba(0, 0, 0, 0.06)\"></div><style>@keyframes movement {\n",
       "           from {\n",
       "             transform: translateY(2px);\n",
       "           }\n",
       " \n",
       "           50% {\n",
       "             transform: translateY(-2px);\n",
       "           }\n",
       " \n",
       "           to {\n",
       "             transform: translateY(2px);\n",
       "           }\n",
       "         }\n",
       " \n",
       "         svg circle {\n",
       "           animation: 0.4s movement linear infinite;\n",
       "         }\n",
       " \n",
       "         svg circle:nth-child(2) {\n",
       "           animation-delay: 0.1s;\n",
       "         }\n",
       " \n",
       "         svg circle:nth-child(3) {\n",
       "           animation-delay: 0.2s;\n",
       "         }</style><svg class=\"spinner\" height=\"12\" style=\"position: fixed; top: 50%; left: 50%; transform: translateX(-50%) translateY(-50%)\" viewbox=\"-1 0 33 12\" width=\"34\"><circle cx=\"4\" cy=\"6\" fill=\"#ee4d2d\" r=\"4\"></circle><circle cx=\"16\" cy=\"6\" fill=\"#ee4d2d\" r=\"4\"></circle><circle cx=\"28\" cy=\"6\" fill=\"#ee4d2d\" r=\"4\"></circle></svg></div><div id=\"app\"></div><div id=\"modal\"></div><div class=\"style__modal__3qDSf98C\"><div class=\"style__modal__DSf2345XC\"><div class=\"style__apps_3RSD99\"><div class=\"style__fshow__2EQ5833\"></div></div></div></div><noscript>Please enable JavaScript on your browser.</noscript><script src=\"https://deo.shopeemobile.com/shopee/shopee-mobilemall-live-sg/assets/webpack-runtime.1b17cb1e415599992146.js\"></script><script src=\"https://deo.shopeemobile.com/shopee/shopee-mobilemall-live-sg/assets/modules.cf41d6c92fbd2bafbd99.js\"></script><script src=\"https://deo.shopeemobile.com/shopee/shopee-mobilemall-live-sg/assets/bundle.0313aa015dbf75a616c2.js\"></script><script>\n",
       " (function (platform) { \n",
       " platform.loadHydrationSlotModules([]);\n",
       " })(self.Platform);\n",
       " </script></body></html>]"
      ]
     },
     "execution_count": 10,
     "metadata": {},
     "output_type": "execute_result"
    }
   ],
   "source": [
    "soup.contents"
   ]
  },
  {
   "cell_type": "code",
   "execution_count": 7,
   "metadata": {},
   "outputs": [
    {
     "name": "stderr",
     "output_type": "stream",
     "text": [
      "C:\\Users\\Nico\\anaconda3\\lib\\site-packages\\ipykernel_launcher.py:11: DeprecationWarning: use options instead of chrome_options\n",
      "  # This is added back by InteractiveShellApp.init_path()\n"
     ]
    },
    {
     "ename": "TimeoutException",
     "evalue": "Message: \n",
     "output_type": "error",
     "traceback": [
      "\u001b[1;31m---------------------------------------------------------------------------\u001b[0m",
      "\u001b[1;31mTimeoutException\u001b[0m                          Traceback (most recent call last)",
      "\u001b[1;32m<ipython-input-7-7b4259e79dbd>\u001b[0m in \u001b[0;36m<module>\u001b[1;34m\u001b[0m\n\u001b[0;32m     11\u001b[0m \u001b[0mbrowserdriver\u001b[0m \u001b[1;33m=\u001b[0m \u001b[0mwebdriver\u001b[0m\u001b[1;33m.\u001b[0m\u001b[0mChrome\u001b[0m\u001b[1;33m(\u001b[0m\u001b[0mchrome_options\u001b[0m\u001b[1;33m=\u001b[0m\u001b[0moptions\u001b[0m\u001b[1;33m,\u001b[0m \u001b[0mexecutable_path\u001b[0m\u001b[1;33m=\u001b[0m\u001b[1;34mr'E:/Downloads/chromedriver_win32/chromedriver.exe'\u001b[0m\u001b[1;33m)\u001b[0m\u001b[1;33m\u001b[0m\u001b[1;33m\u001b[0m\u001b[0m\n\u001b[0;32m     12\u001b[0m \u001b[0mbrowserdriver\u001b[0m\u001b[1;33m.\u001b[0m\u001b[0mget\u001b[0m\u001b[1;33m(\u001b[0m\u001b[1;34m'https://shopee.ph/search?keyword=air%20fryer'\u001b[0m\u001b[1;33m)\u001b[0m\u001b[1;33m\u001b[0m\u001b[1;33m\u001b[0m\u001b[0m\n\u001b[1;32m---> 13\u001b[1;33m \u001b[0mWebDriverWait\u001b[0m\u001b[1;33m(\u001b[0m\u001b[0mbrowserdriver\u001b[0m\u001b[1;33m,\u001b[0m \u001b[1;36m5\u001b[0m\u001b[1;33m)\u001b[0m\u001b[1;33m.\u001b[0m\u001b[0muntil\u001b[0m\u001b[1;33m(\u001b[0m\u001b[0mEC\u001b[0m\u001b[1;33m.\u001b[0m\u001b[0melement_to_be_clickable\u001b[0m\u001b[1;33m(\u001b[0m\u001b[1;33m(\u001b[0m\u001b[0mBy\u001b[0m\u001b[1;33m.\u001b[0m\u001b[0mXPATH\u001b[0m\u001b[1;33m,\u001b[0m \u001b[1;34m\"//div[@class='shopee-modal__container']//button[text()='English']\"\u001b[0m\u001b[1;33m)\u001b[0m\u001b[1;33m)\u001b[0m\u001b[1;33m)\u001b[0m\u001b[1;33m.\u001b[0m\u001b[0mclick\u001b[0m\u001b[1;33m(\u001b[0m\u001b[1;33m)\u001b[0m\u001b[1;33m\u001b[0m\u001b[1;33m\u001b[0m\u001b[0m\n\u001b[0m\u001b[0;32m     14\u001b[0m \u001b[0mprint\u001b[0m\u001b[1;33m(\u001b[0m\u001b[1;33m[\u001b[0m\u001b[0mmy_element\u001b[0m\u001b[1;33m.\u001b[0m\u001b[0mtext\u001b[0m \u001b[1;32mfor\u001b[0m \u001b[0mmy_element\u001b[0m \u001b[1;32min\u001b[0m \u001b[0mWebDriverWait\u001b[0m\u001b[1;33m(\u001b[0m\u001b[0mbrowserdriver\u001b[0m\u001b[1;33m,\u001b[0m \u001b[1;36m5\u001b[0m\u001b[1;33m)\u001b[0m\u001b[1;33m.\u001b[0m\u001b[0muntil\u001b[0m\u001b[1;33m(\u001b[0m\u001b[0mEC\u001b[0m\u001b[1;33m.\u001b[0m\u001b[0mvisibility_of_all_elements_located\u001b[0m\u001b[1;33m(\u001b[0m\u001b[1;33m(\u001b[0m\u001b[0mBy\u001b[0m\u001b[1;33m.\u001b[0m\u001b[0mXPATH\u001b[0m\u001b[1;33m,\u001b[0m \u001b[1;34m\"//span[text()='RM']//following::span[1]\"\u001b[0m\u001b[1;33m)\u001b[0m\u001b[1;33m)\u001b[0m\u001b[1;33m)\u001b[0m\u001b[1;33m]\u001b[0m\u001b[1;33m)\u001b[0m\u001b[1;33m\u001b[0m\u001b[1;33m\u001b[0m\u001b[0m\n\u001b[0;32m     15\u001b[0m \u001b[0mprint\u001b[0m\u001b[1;33m(\u001b[0m\u001b[1;34m\"Program Ended\"\u001b[0m\u001b[1;33m)\u001b[0m\u001b[1;33m\u001b[0m\u001b[1;33m\u001b[0m\u001b[0m\n",
      "\u001b[1;32m~\\anaconda3\\lib\\site-packages\\selenium\\webdriver\\support\\wait.py\u001b[0m in \u001b[0;36muntil\u001b[1;34m(self, method, message)\u001b[0m\n\u001b[0;32m     78\u001b[0m             \u001b[1;32mif\u001b[0m \u001b[0mtime\u001b[0m\u001b[1;33m.\u001b[0m\u001b[0mtime\u001b[0m\u001b[1;33m(\u001b[0m\u001b[1;33m)\u001b[0m \u001b[1;33m>\u001b[0m \u001b[0mend_time\u001b[0m\u001b[1;33m:\u001b[0m\u001b[1;33m\u001b[0m\u001b[1;33m\u001b[0m\u001b[0m\n\u001b[0;32m     79\u001b[0m                 \u001b[1;32mbreak\u001b[0m\u001b[1;33m\u001b[0m\u001b[1;33m\u001b[0m\u001b[0m\n\u001b[1;32m---> 80\u001b[1;33m         \u001b[1;32mraise\u001b[0m \u001b[0mTimeoutException\u001b[0m\u001b[1;33m(\u001b[0m\u001b[0mmessage\u001b[0m\u001b[1;33m,\u001b[0m \u001b[0mscreen\u001b[0m\u001b[1;33m,\u001b[0m \u001b[0mstacktrace\u001b[0m\u001b[1;33m)\u001b[0m\u001b[1;33m\u001b[0m\u001b[1;33m\u001b[0m\u001b[0m\n\u001b[0m\u001b[0;32m     81\u001b[0m \u001b[1;33m\u001b[0m\u001b[0m\n\u001b[0;32m     82\u001b[0m     \u001b[1;32mdef\u001b[0m \u001b[0muntil_not\u001b[0m\u001b[1;33m(\u001b[0m\u001b[0mself\u001b[0m\u001b[1;33m,\u001b[0m \u001b[0mmethod\u001b[0m\u001b[1;33m,\u001b[0m \u001b[0mmessage\u001b[0m\u001b[1;33m=\u001b[0m\u001b[1;34m''\u001b[0m\u001b[1;33m)\u001b[0m\u001b[1;33m:\u001b[0m\u001b[1;33m\u001b[0m\u001b[1;33m\u001b[0m\u001b[0m\n",
      "\u001b[1;31mTimeoutException\u001b[0m: Message: \n"
     ]
    }
   ],
   "source": [
    "from selenium import webdriver\n",
    "from selenium.webdriver.support.ui import WebDriverWait\n",
    "from selenium.webdriver.common.by import By\n",
    "from selenium.webdriver.support import expected_conditions as EC\n",
    "\n",
    "options = webdriver.ChromeOptions()\n",
    "options.add_argument('--headless')\n",
    "options.add_argument('start-maximized')\n",
    "options.add_argument('disable-infobars')\n",
    "options.add_argument('--disable-extensions')\n",
    "browserdriver = webdriver.Chrome(chrome_options=options, executable_path=r'E:/Downloads/chromedriver_win32/chromedriver.exe')\n",
    "browserdriver.get('https://shopee.ph/search?keyword=air%20fryer')\n",
    "WebDriverWait(browserdriver, 5).until(EC.element_to_be_clickable((By.XPATH, \"//div[@class='shopee-modal__container']//button[text()='English']\"))).click()\n",
    "print([my_element.text for my_element in WebDriverWait(browserdriver, 5).until(EC.visibility_of_all_elements_located((By.XPATH, \"//span[text()='RM']//following::span[1]\")))])\n",
    "print(\"Program Ended\")"
   ]
  },
  {
   "cell_type": "code",
   "execution_count": 8,
   "metadata": {},
   "outputs": [],
   "source": [
    "from bs4 import BeautifulSoup\n",
    "from selenium import webdriver\n",
    "from selenium.webdriver.chrome.options import Options\n",
    "from selenium.webdriver.support.ui import WebDriverWait\n",
    "from selenium.common.exceptions import TimeoutException\n",
    "from time import sleep"
   ]
  },
  {
   "cell_type": "code",
   "execution_count": 26,
   "metadata": {},
   "outputs": [],
   "source": [
    "# create object for chrome options\n",
    "chrome_options = Options()\n",
    "base_url = 'https://shopee.ph/search?keyword=air%20fryer&order=desc&page=0&sortBy=price'\n",
    "\n",
    "# set chrome driver options to disable any popup's from the website\n",
    "# to find local path for chrome profile, open chrome browser\n",
    "# and in the address bar type, \"chrome://version\"\n",
    "chrome_options.add_argument('disable-notifications')\n",
    "chrome_options.add_argument('--disable-infobars')\n",
    "chrome_options.add_argument('start-maximized')\n",
    "chrome_options.add_argument('user-data-dir=C:\\\\Users\\\\Nico\\\\AppData\\\\Local\\\\Google\\\\Chrome\\\\User Data\\\\Default1')\n",
    "# To disable the message, \"Chrome is being controlled by automated test software\"\n",
    "chrome_options.add_argument(\"disable-infobars\")\n",
    "# Pass the argument 1 to allow and 2 to block\n",
    "chrome_options.add_experimental_option(\"prefs\", { \n",
    "    \"profile.default_content_setting_values.notifications\": 2\n",
    "    })\n",
    "# invoke the webdriver\n",
    "browser = webdriver.Chrome(executable_path = r'E:/Downloads/chromedriver_win32/chromedriver.exe',\n",
    "                          options = chrome_options)\n",
    "browser.get(base_url)\n",
    "delay = 5 #secods"
   ]
  },
  {
   "cell_type": "code",
   "execution_count": 27,
   "metadata": {},
   "outputs": [
    {
     "name": "stdout",
     "output_type": "stream",
     "text": [
      "Page is ready\n",
      "1,199\n",
      "2,899\n",
      "1,699\n",
      "1,699\n",
      "1,100\n",
      "1,999\n",
      "1,699\n",
      "2,199\n",
      "95,683\n",
      "84,149\n",
      "79,559\n",
      "44,450\n",
      "41,999\n",
      "40,128\n",
      "35,999\n",
      "32,149\n",
      "28,442\n",
      "29,999\n"
     ]
    }
   ],
   "source": [
    "# declare empty lists\n",
    "item_cost, item_init_cost, item_loc = [],[],[]\n",
    "item_name, items_sold, discount_percent = [], [], []\n",
    "while True:\n",
    "    try:\n",
    "        WebDriverWait(browser, delay)\n",
    "        print (\"Page is ready\")\n",
    "        sleep(2)\n",
    "        html = browser.execute_script(\"return document.getElementsByTagName('html')[0].innerHTML\")\n",
    "        #print(html)\n",
    "        soup = BeautifulSoup(html, \"html.parser\")\n",
    "\n",
    "        # find_all() returns an array of elements. \n",
    "        # We have to go through all of them and select that one you are need. And than call get_text()\n",
    "        for item_n in soup.find_all('div', class_='_1NoI8_ _16BAGk'):\n",
    "            print(item_n.get_text())\n",
    "            item_name.append(item_n.text)\n",
    "\n",
    "        # find the price of items\n",
    "        for item_c in soup.find_all('span', class_='_1xk7ak'):\n",
    "            print(item_c.get_text())\n",
    "            item_cost.append(item_c.text)\n",
    "\n",
    "#         # find initial item cost\n",
    "#         for item_ic in soup.find_all('div', class_ = '_1w9jLI QbH7Ig U90Nhh'):\n",
    "#             print(item_ic.get_text())\n",
    "#             item_init_cost.append(item_ic.text)\n",
    "#         # find total number of items sold/month\n",
    "#         for items_s in soup.find_all('div',class_ = '_18SLBt'):\n",
    "#             print(items_s.get_text())\n",
    "#             items_sold.append(item_ic.text)\n",
    "\n",
    "#         # find item discount percent\n",
    "#         for dp in soup.find_all('span', class_ = 'percent'):\n",
    "#             print(dp.get_text())\n",
    "#             discount_percent.append(dp.text)\n",
    "#         # find item location\n",
    "#         for il in soup.find_all('div', class_ = '_3amru2'):\n",
    "#             print(il.get_text())\n",
    "#             item_loc.append(il.text)\n",
    "\n",
    "        break # it will break from the loop once the specific element will be present. \n",
    "    except TimeoutException:\n",
    "        print (\"Loading took too much time!-Try again\")"
   ]
  },
  {
   "cell_type": "code",
   "execution_count": 30,
   "metadata": {},
   "outputs": [
    {
     "data": {
      "text/plain": [
       "['1,199',\n",
       " '2,899',\n",
       " '1,699',\n",
       " '1,699',\n",
       " '1,100',\n",
       " '1,999',\n",
       " '1,699',\n",
       " '2,199',\n",
       " '95,683',\n",
       " '84,149',\n",
       " '79,559',\n",
       " '44,450',\n",
       " '41,999',\n",
       " '40,128',\n",
       " '35,999',\n",
       " '32,149',\n",
       " '28,442',\n",
       " '29,999']"
      ]
     },
     "execution_count": 30,
     "metadata": {},
     "output_type": "execute_result"
    }
   ],
   "source": [
    "item_cost"
   ]
  },
  {
   "cell_type": "code",
   "execution_count": 33,
   "metadata": {},
   "outputs": [],
   "source": [
    "cost_int = [float(i.replace(',','')) for i in item_cost]"
   ]
  },
  {
   "cell_type": "code",
   "execution_count": 35,
   "metadata": {},
   "outputs": [
    {
     "data": {
      "text/plain": [
       "527050.0"
      ]
     },
     "execution_count": 35,
     "metadata": {},
     "output_type": "execute_result"
    }
   ],
   "source": [
    "sum(cost_int)"
   ]
  },
  {
   "cell_type": "code",
   "execution_count": 15,
   "metadata": {},
   "outputs": [],
   "source": [
    "rows = zip(item_name, item_init_cost,discount_percent,item_cost,items_sold,item_loc)"
   ]
  },
  {
   "cell_type": "code",
   "execution_count": 17,
   "metadata": {},
   "outputs": [],
   "source": [
    "for i in rows:\n",
    "    print(i,y)"
   ]
  },
  {
   "cell_type": "code",
   "execution_count": null,
   "metadata": {},
   "outputs": [],
   "source": []
  }
 ],
 "metadata": {
  "kernelspec": {
   "display_name": "Python 3",
   "language": "python",
   "name": "python3"
  },
  "language_info": {
   "codemirror_mode": {
    "name": "ipython",
    "version": 3
   },
   "file_extension": ".py",
   "mimetype": "text/x-python",
   "name": "python",
   "nbconvert_exporter": "python",
   "pygments_lexer": "ipython3",
   "version": "3.7.7"
  }
 },
 "nbformat": 4,
 "nbformat_minor": 4
}
